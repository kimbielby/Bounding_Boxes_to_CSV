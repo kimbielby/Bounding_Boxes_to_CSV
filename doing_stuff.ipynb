{
 "cells": [
  {
   "cell_type": "code",
   "execution_count": null,
   "id": "initial_id",
   "metadata": {
    "collapsed": true
   },
   "outputs": [],
   "source": "import main\n"
  },
  {
   "cell_type": "markdown",
   "source": [
    "CREATE CSV FILE "
   ],
   "metadata": {
    "collapsed": false
   },
   "id": "fd2e78b82cbd8742"
  },
  {
   "cell_type": "code",
   "execution_count": null,
   "outputs": [],
   "source": [
    "# VARIABLES TO BE USED \n",
    "\n",
    "# Name of the geoJSON file, including the '.geojson' at the end.  Also put in the path to the file if it is not in the same working directory as this one\n",
    "geojson_filepath = \"\"\n",
    "# The name of the image, including the file extension (e.g. 'myimage.jpeg'). Also put in the path to the image if it is not in the same working directory as this one \n",
    "image_filepath = \"\"\n",
    "# The name that you want to call the resulting csv file, including the file extension (.csv). Also put in the path to where you want to save it if not in same working directory \n",
    "new_csv_name = \"\"        \n",
    "# The name of the unique id (not the id number itself) in the properties of each geometry feature \n",
    "id_name = \"\"\n",
    "# What you want to label each feature (row) in the csv file (e.g. 'tree', 'oak' etc.). Will only take one label, not a set\n",
    "label = \"\"\n"
   ],
   "metadata": {
    "collapsed": false
   },
   "id": "28d18cf2b0210b02"
  },
  {
   "cell_type": "code",
   "execution_count": null,
   "outputs": [],
   "source": [
    "# CALL THE METHOD 'here_we_go' IN 'main' AND PASS THE REQUIRED PARAMETERS/ARGUMENTS \n",
    "main.here_we_go(geojson_filepath, image_filepath, new_csv_name, id_name, label)\n"
   ],
   "metadata": {
    "collapsed": false
   },
   "id": "17b2484585c96f9e"
  },
  {
   "cell_type": "markdown",
   "source": [
    "CHECK IF IMAGE BANDS ARE 4 OR 3 "
   ],
   "metadata": {
    "collapsed": false
   },
   "id": "854bb528043571be"
  },
  {
   "cell_type": "code",
   "execution_count": null,
   "outputs": [],
   "source": [
    "import check_image_bands as cib\n",
    "print(cib.lets_check(\"Test1.png\", 3)) \n"
   ],
   "metadata": {
    "collapsed": false
   },
   "id": "bd05adf84f77705"
  },
  {
   "cell_type": "code",
   "execution_count": null,
   "outputs": [],
   "source": [
    "import rasterio\n",
    "src = rasterio.open(\"Test1.png\")\n",
    "print(src.read().shape[0])\n",
    "\n"
   ],
   "metadata": {
    "collapsed": false
   },
   "id": "eed38b172c22d9ec"
  },
  {
   "cell_type": "code",
   "execution_count": null,
   "outputs": [],
   "source": [],
   "metadata": {
    "collapsed": false
   },
   "id": "fc0572cf35069042"
  }
 ],
 "metadata": {
  "kernelspec": {
   "display_name": "Python 3",
   "language": "python",
   "name": "python3"
  },
  "language_info": {
   "codemirror_mode": {
    "name": "ipython",
    "version": 2
   },
   "file_extension": ".py",
   "mimetype": "text/x-python",
   "name": "python",
   "nbconvert_exporter": "python",
   "pygments_lexer": "ipython2",
   "version": "2.7.6"
  }
 },
 "nbformat": 4,
 "nbformat_minor": 5
}
