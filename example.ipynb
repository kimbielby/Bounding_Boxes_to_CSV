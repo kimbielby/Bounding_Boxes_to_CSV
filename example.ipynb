{
 "cells": [
  {
   "cell_type": "code",
   "execution_count": null,
   "id": "initial_id",
   "metadata": {
    "collapsed": true
   },
   "source": [
    "import main\n",
    "import check_image_bands as cib"
   ],
   "outputs": []
  },
  {
   "cell_type": "markdown",
   "source": [
    "CREATE CSV FILE "
   ],
   "metadata": {
    "collapsed": false
   },
   "id": "fd2e78b82cbd8742"
  },
  {
   "cell_type": "code",
   "execution_count": null,
   "source": [
    "# VARIABLES TO BE USED\n",
    "geojson_filepath = \"\"   # The path to, and including, the GeoJSON file\n",
    "image_filepath = \"\"     # The path to, and including, the image\n",
    "new_csv_name = \"\"      # The new name (and path to) of the resulting csv file\n",
    "label = \"\"  # What you want to label each feature (row) in the csv file (e.g. 'tree', 'oak' etc.). Will only take one label, not a set\n"
   ],
   "metadata": {
    "collapsed": false
   },
   "id": "28d18cf2b0210b02",
   "outputs": []
  },
  {
   "cell_type": "code",
   "execution_count": null,
   "source": [
    "# CALL THE METHOD 'here_we_go' IN 'main' AND PASS THE REQUIRED PARAMETERS/ARGUMENTS \n",
    "main.here_we_go(geojson_filepath, image_filepath, new_csv_name, label)\n"
   ],
   "metadata": {
    "collapsed": false
   },
   "id": "17b2484585c96f9e",
   "outputs": []
  },
  {
   "cell_type": "markdown",
   "source": [
    "CHECK IF IMAGE BANDS ARE 4 OR 3 "
   ],
   "metadata": {
    "collapsed": false
   },
   "id": "854bb528043571be"
  },
  {
   "cell_type": "code",
   "execution_count": null,
   "source": [
    "# Python file check_image_bands returns a Boolean\n",
    "print(cib.lets_check(image_file_name=image_filepath, req_num_bands=3))\n"
   ],
   "metadata": {
    "collapsed": false
   },
   "id": "bd05adf84f77705",
   "outputs": []
  }
 ],
 "metadata": {
  "kernelspec": {
   "display_name": "Python 3",
   "language": "python",
   "name": "python3"
  },
  "language_info": {
   "codemirror_mode": {
    "name": "ipython",
    "version": 2
   },
   "file_extension": ".py",
   "mimetype": "text/x-python",
   "name": "python",
   "nbconvert_exporter": "python",
   "pygments_lexer": "ipython2",
   "version": "2.7.6"
  }
 },
 "nbformat": 4,
 "nbformat_minor": 5
}
